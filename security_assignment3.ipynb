{
 "cells": [
  {
   "cell_type": "code",
   "execution_count": 16,
   "metadata": {},
   "outputs": [
    {
     "name": "stdout",
     "output_type": "stream",
     "text": [
      "SHA-256 hash: 9a2270d5964f64981fb1e91dd13e5941262817bdce873cf357c92adbef906b5d\n"
     ]
    }
   ],
   "source": [
    "import hashlib\n",
    "\n",
    "def calculate_sha256(file_path):\n",
    "    try:\n",
    "        with open(file_path, 'rb') as file:\n",
    "            file_contents = file.read()\n",
    "            sha256_hash = hashlib.sha256(file_contents).hexdigest()\n",
    "            return sha256_hash\n",
    "    except FileNotFoundError:\n",
    "        print(\"File not found.\")\n",
    "        return None\n",
    "    except Exception as e:\n",
    "        print(f\"An error occurred: {e}\")\n",
    "        return None\n",
    "\n",
    "def main():\n",
    "    file_path = input(\"C:/Users/yomna/Downloads/file_example_MP3_700KB.mp3\")\n",
    "    sha256_hash = calculate_sha256(file_path)\n",
    "    if sha256_hash:\n",
    "        print(\"SHA-256 hash:\", sha256_hash)\n",
    "\n",
    "if __name__ == \"__main__\":\n",
    "    main()\n"
   ]
  },
  {
   "cell_type": "code",
   "execution_count": 17,
   "metadata": {},
   "outputs": [
    {
     "name": "stdout",
     "output_type": "stream",
     "text": [
      "Calculated SHA-256 hash: 9a2270d5964f64981fb1e91dd13e5941262817bdce873cf357c92adbef906b5d\n",
      "File integrity: Valid\n"
     ]
    }
   ],
   "source": [
    "import hashlib\n",
    "import os\n",
    "\n",
    "\n",
    "def verify_integrity(file_path, expected_hash):\n",
    "    calculated_hash = calculate_sha256(file_path)\n",
    "    if calculated_hash:\n",
    "        if calculated_hash == expected_hash:\n",
    "            print(\"Calculated SHA-256 hash:\", calculated_hash)\n",
    "            print(\"File integrity: Valid\")\n",
    "        else:\n",
    "            print(\"Calculated SHA-256 hash:\", calculated_hash)\n",
    "            print(\"File integrity: Not valid\")\n",
    "    else:\n",
    "        print(\"File integrity: Unable to verify\")\n",
    "\n",
    "def main():\n",
    "    file_path = input(\"Enter the file path: \")\n",
    "    expected_hash = input(\"Enter the expected SHA-256 hash: \")\n",
    "    \n",
    "    verify_integrity(file_path, expected_hash)\n",
    "\n",
    "if __name__ == \"__main__\":\n",
    "    main()\n"
   ]
  },
  {
   "cell_type": "code",
   "execution_count": null,
   "metadata": {},
   "outputs": [],
   "source": []
  }
 ],
 "metadata": {
  "kernelspec": {
   "display_name": "base",
   "language": "python",
   "name": "python3"
  },
  "language_info": {
   "codemirror_mode": {
    "name": "ipython",
    "version": 3
   },
   "file_extension": ".py",
   "mimetype": "text/x-python",
   "name": "python",
   "nbconvert_exporter": "python",
   "pygments_lexer": "ipython3",
   "version": "3.8.8"
  }
 },
 "nbformat": 4,
 "nbformat_minor": 2
}
